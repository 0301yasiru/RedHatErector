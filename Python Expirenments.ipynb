{
 "cells": [
  {
   "cell_type": "code",
   "execution_count": 2,
   "id": "28355c26",
   "metadata": {},
   "outputs": [],
   "source": [
    "from datetime import datetime\n",
    "from threading import Thread\n",
    "from time import sleep\n",
    "import numpy as np"
   ]
  },
  {
   "cell_type": "code",
   "execution_count": 3,
   "id": "aac4adbf",
   "metadata": {},
   "outputs": [],
   "source": [
    "def threaded(fn):\n",
    "    def wrapper(*args, **kwargs):\n",
    "        thread = Thread(target=fn, args=args, kwargs=kwargs)\n",
    "        thread.start()\n",
    "        return thread\n",
    "    return wrapper"
   ]
  },
  {
   "cell_type": "code",
   "execution_count": 4,
   "id": "b6a9d6fd",
   "metadata": {},
   "outputs": [],
   "source": [
    "class Stepper:\n",
    "    def __init__(self, id_, speedRPM = 60, direction = False):\n",
    "        # Maximum allowed number of motors are 8 therefor id should between 0->7(inclusive)\n",
    "        self.id = id_\n",
    "        self.dir_pin = id_ # the direction pin\n",
    "        self.step_pin = id_ + 1 # stepping pin\n",
    "        \n",
    "        self.speedRPM = speedRPM\n",
    "        self.duration = 1/((self.speedRPM / 60) * 200) * 1e6  # period of a pulse in microseconds\n",
    "        self.direction = direction"
   ]
  },
  {
   "cell_type": "code",
   "execution_count": 5,
   "id": "e5f93f30",
   "metadata": {},
   "outputs": [],
   "source": [
    "class StepperDriver:\n",
    "    def __init__(self, motorRef):\n",
    "        \"\"\"\n",
    "        DOCSTRING: This function will initialize the Stepper Driver Unit\n",
    "        \"\"\"\n",
    "        self.conn = {\n",
    "            'clk': 11, # Serial clock pin\n",
    "            'ser': 10, # Serial data pin\n",
    "            'ltc': 22  # Latch pin\n",
    "        }\n",
    "        \n",
    "        self.motorRef = motorRef # a list of motor objects\n",
    "\n",
    "        # now we have to fill in the empty motors\n",
    "        for tempID in range(8):\n",
    "            if tempID not in [motor.id for motor in self.motorRef]:\n",
    "                self.motorRef.append(Stepper(tempID))\n",
    "                \n",
    "        \n",
    "        self.pulseSpeed = 2670 #minimum requirenment\n",
    "        self.pulsePeriod = 1/self.pulseSpeed * 1e6\n",
    "\n",
    "        # extract motorDirections\n",
    "        self.__motorDirections = np.array([motor.direction for motor in motorRef], dtype='int8')\n",
    "        # calculate bit flip periods\n",
    "        self.flipPeriods = self.__calculateBitPeriod()\n",
    "        \n",
    "        self.__setupGPIO()\n",
    "        self.__exit = False\n",
    "\n",
    "    def __setupGPIO(self):\n",
    "        pass\n",
    "#         GPIO.setmode(GPIO.BCM)\n",
    "#         GPIO.setup(self.conn['clk'], GPIO.OUT)\n",
    "#         GPIO.setup(self.conn['ser'], GPIO.OUT)\n",
    "#         GPIO.setup(self.conn['ltc'], GPIO.OUT)\n",
    "\n",
    "#         GPIO.output(self.conn['ltc'], GPIO.LOW)\n",
    "#         GPIO.output(self.conn['clk'], GPIO.HIGH)\n",
    "\n",
    "    def __shiftOut(self, val):\n",
    "        sleep(70 * 1e-6)\n",
    "#         for i in range(0,16):\n",
    "#             GPIO.output(self.conn['clk'], GPIO.HIGH)\n",
    "#             GPIO.output(self.conn['ser'], val[i] and GPIO.HIGH or GPIO.LOW)\n",
    "#             GPIO.output(self.conn['clk'], GPIO.LOW)\n",
    "        \n",
    "    def __calculateBitPeriod(self):\n",
    "        \"\"\"\n",
    "        DOCTRING: This function assumes the paralel data output at pulseSpeed and calculate the lipping points\n",
    "                  each motor\n",
    "        \"\"\"\n",
    "        flips = np.ones(shape = 8, dtype = 'int8')\n",
    "        \n",
    "        for motor in self.motorRef:\n",
    "            flips[motor.id] = round(self.pulseSpeed / (400 * motor.speedRPM / 60))\n",
    "            \n",
    "        return flips\n",
    "            \n",
    "\n",
    "    @threaded\n",
    "    def stepMotors(self):\n",
    "        \"\"\"\n",
    "        DOCSTRING: Since we must approch 6.667 RPS from a motor, Pulsing Rate -> 6.667 * 200 -> 1333.4 Hz but pulse \n",
    "                   includes 1,0 Combination therefor step data must be generated in 2670 Hz minimum.\n",
    "        \"\"\"\n",
    "        \n",
    "        # FORMAT-> M0 M1 M2 M3 M4 M5 ..\n",
    "        #       -> DS Ds Ds Ds Ds Ds ..\n",
    "        \n",
    "        __counter = 0 # The Flip Counter\n",
    "        data = np.zeros(shape = (16), dtype=bool)\n",
    "        \n",
    "        while not self.__exit:\n",
    "            start = datetime.now()\n",
    "            \n",
    "            data[::2] = self.__motorDirections\n",
    "            data[1::2] ^= __counter % self.flipPeriods == 0\n",
    "            \n",
    "\n",
    "#             GPIO.output(self.conn['ltc'], GPIO.HIGH)\n",
    "            self.__shiftOut(data[::-1])\n",
    "#             GPIO.output(self.conn['ltc'], GPIO.LOW)\n",
    "\n",
    "            try:\n",
    "                sleep((self.pulsePeriod - (datetime.now() - start).microseconds - 100) / 1e6)\n",
    "            except ValueError:\n",
    "                pass\n",
    "\n",
    "            __counter += 1 # increment the coounter\n",
    "            print(data.astype('int8'))\n",
    "            if __counter > 30: break\n",
    "\n",
    "#         GPIO.cleanup()\n",
    "\n",
    "    def __printMotors(self):\n",
    "        print(\"+-------------+-------------+-------------+\")\n",
    "        print(\"|  MOTOR ID   |  SPEED RPM  |  DIRECTION  |\")\n",
    "        print(\"+-------------+-------------+-------------+\")\n",
    "        \n",
    "        for motor in self.motorRef:\n",
    "            print(\"|\" + str(motor.id).ljust(13) + \"|\" + str(motor.speedRPM).ljust(13) + \"|\" + str(motor.direction).ljust(13) + \"|\")\n",
    "        \n",
    "        print(\"+-------------+-------------+-------------+\")\n",
    "\n",
    "    def __setAttr(self, id_, speed=None):\n",
    "        if speed:\n",
    "            self.motorRef[id_].speedRPM = speed\n",
    "            self.flipPeriods = self.__calculateBitPeriod()\n",
    "            \n",
    "\n",
    "    @threaded\n",
    "    def driverConsole(self):\n",
    "        while not self.__exit:\n",
    "            data = input(\"Driver Console#/ > \").split()\n",
    "            \n",
    "            if data[0] == 'quit()':\n",
    "                self.__exit = True\n",
    "\n",
    "            elif data[0] == 'list':\n",
    "                if data[1] == 'motors':\n",
    "                    self.__printMotors()\n",
    "\n",
    "            elif data[0] == 'set':\n",
    "                motorid = int(data[1][-1])\n",
    "                \n",
    "                if data[2] == 'speed':                    \n",
    "                    self.motorRef[motorid].speedRPM = int(data[3])\n",
    "                    self.flipPeriods = self.__calculateBitPeriod()\n",
    "                \n",
    "                elif data[2] == 'dir':\n",
    "                    self.motorRef[motorid].direction = bool(int(data[3]))\n",
    "                    self.__motorDirections = np.array([motor.direction for motor in motorRef], dtype='int8')\n",
    "\n",
    "            \n",
    "\n",
    "    def start(self):\n",
    "        self.stepMotors()\n",
    "        self.driverConsole()"
   ]
  },
  {
   "cell_type": "code",
   "execution_count": 6,
   "id": "289e9a9b",
   "metadata": {},
   "outputs": [
    {
     "name": "stdout",
     "output_type": "stream",
     "text": [
      "[0 1 1 1 0 1 0 1 0 1 0 1 0 1 0 1]\n",
      "[0 1 1 1 0 0 0 1 0 1 0 1 0 1 0 1]\n",
      "[0 1 1 0 0 1 0 1 0 1 0 1 0 1 0 1]\n",
      "[0 1 1 0 0 0 0 1 0 1 0 1 0 1 0 1]\n",
      "[0 1 1 1 0 1 0 1 0 1 0 1 0 1 0 1]\n",
      "[0 1 1 1 0 0 0 1 0 1 0 1 0 1 0 1]\n",
      "[0 1 1 0 0 1 0 1 0 1 0 1 0 1 0 1]\n",
      "[0 0 1 0 0 0 0 0 0 0 0 0 0 0 0 0]\n",
      "[0 0 1 1 0 1 0 0 0 0 0 0 0 0 0 0]\n",
      "[0 0 1 1 0 0 0 0 0 0 0 0 0 0 0 0]\n",
      "[0 0 1 0 0 1 0 0 0 0 0 0 0 0 0 0]\n",
      "[0 0 1 0 0 0 0 0 0 0 0 0 0 0 0 0]\n",
      "[0 0 1 1 0 1 0 0 0 0 0 0 0 0 0 0]\n",
      "[0 0 1 1 0 0 0 0 0 0 0 0 0 0 0 0]\n",
      "[0 1 1 0 0 1 0 1 0 1 0 1 0 1 0 1]\n",
      "[0 1 1 0 0 0 0 1 0 1 0 1 0 1 0 1]\n",
      "[0 1 1 1 0 1 0 1 0 1 0 1 0 1 0 1]\n",
      "[0 1 1 1 0 0 0 1 0 1 0 1 0 1 0 1]\n",
      "[0 1 1 0 0 1 0 1 0 1 0 1 0 1 0 1]\n",
      "[0 1 1 0 0 0 0 1 0 1 0 1 0 1 0 1]\n",
      "[0 1 1 1 0 1 0 1 0 1 0 1 0 1 0 1]\n",
      "[0 0 1 1 0 0 0 0 0 0 0 0 0 0 0 0]\n",
      "[0 0 1 0 0 1 0 0 0 0 0 0 0 0 0 0]\n",
      "[0 0 1 0 0 0 0 0 0 0 0 0 0 0 0 0]\n",
      "[0 0 1 1 0 1 0 0 0 0 0 0 0 0 0 0]\n",
      "[0 0 1 1 0 0 0 0 0 0 0 0 0 0 0 0]\n",
      "[0 0 1 0 0 1 0 0 0 0 0 0 0 0 0 0]\n",
      "[0 0 1 0 0 0 0 0 0 0 0 0 0 0 0 0]\n",
      "[0 1 1 1 0 1 0 1 0 1 0 1 0 1 0 1]\n",
      "[0 1 1 1 0 0 0 1 0 1 0 1 0 1 0 1]\n",
      "[0 1 1 0 0 1 0 1 0 1 0 1 0 1 0 1]\n",
      "Driver Console#/ > quit()\n"
     ]
    }
   ],
   "source": [
    "driver = StepperDriver([Stepper(0), Stepper(1, speedRPM = 250, direction=True), Stepper(2, speedRPM=400)])\n",
    "driver.start()"
   ]
  },
  {
   "cell_type": "code",
   "execution_count": 20,
   "id": "50230549",
   "metadata": {},
   "outputs": [],
   "source": [
    "lista = [Stepper(0, speedRPM=120, direction=True),\n",
    "         Stepper(1, speedRPM=350, direction=False),\n",
    "         Stepper(2, speedRPM=46, direction=True),\n",
    "         Stepper(3, speedRPM=12, direction=False),\n",
    "         Stepper(4, speedRPM=20, direction=False),\n",
    "         Stepper(5, speedRPM=56, direction=True),\n",
    "         Stepper(6, speedRPM=230, direction=False),\n",
    "         Stepper(7, speedRPM=200, direction=False)]"
   ]
  },
  {
   "cell_type": "code",
   "execution_count": 52,
   "id": "92c0975b",
   "metadata": {},
   "outputs": [],
   "source": [
    "data_ = np.zeros(shape=16, dtype='int8')"
   ]
  },
  {
   "cell_type": "code",
   "execution_count": 53,
   "id": "6cdffd08",
   "metadata": {},
   "outputs": [],
   "source": [
    "motornp = np.array(lista)"
   ]
  },
  {
   "cell_type": "code",
   "execution_count": 54,
   "id": "60252aaa",
   "metadata": {},
   "outputs": [],
   "source": [
    "expnp = np.array([1,2,3,4,5,6,7,8])"
   ]
  },
  {
   "cell_type": "code",
   "execution_count": 55,
   "id": "6a379460",
   "metadata": {},
   "outputs": [
    {
     "data": {
      "text/plain": [
       "array([2, 4, 6, 8])"
      ]
     },
     "execution_count": 55,
     "metadata": {},
     "output_type": "execute_result"
    }
   ],
   "source": [
    "expnp[1::2]"
   ]
  },
  {
   "cell_type": "code",
   "execution_count": 56,
   "id": "5c2fcc0b",
   "metadata": {},
   "outputs": [
    {
     "name": "stdout",
     "output_type": "stream",
     "text": [
      "[1 0 0 0 1 0 0 0 0 0 1 0 0 0 0 0]\n"
     ]
    }
   ],
   "source": [
    "# setting data directoins\n",
    "__directions = np.array([motor.direction for motor in lista])\n",
    "data_[::2] = __directions\n",
    "\n",
    "print(data_)"
   ]
  },
  {
   "cell_type": "code",
   "execution_count": 73,
   "id": "1335c468",
   "metadata": {},
   "outputs": [],
   "source": [
    "flipsexp = np.array([7,3,4,1,1,1,1,1], dtype='int8')\n",
    "counter_ = 0"
   ]
  },
  {
   "cell_type": "code",
   "execution_count": 77,
   "id": "bc0b4066",
   "metadata": {},
   "outputs": [
    {
     "name": "stdout",
     "output_type": "stream",
     "text": [
      "[1 1 0 1 1 1 0 1 0 1 1 1 0 1 0 1]\n",
      "[1 1 0 1 1 1 0 0 0 0 1 0 0 0 0 0]\n",
      "[1 1 0 1 1 1 0 1 0 1 1 1 0 1 0 1]\n",
      "[1 1 0 0 1 1 0 0 0 0 1 0 0 0 0 0]\n",
      "[1 1 0 0 1 0 0 1 0 1 1 1 0 1 0 1]\n",
      "[1 1 0 0 1 0 0 0 0 0 1 0 0 0 0 0]\n",
      "[1 1 0 1 1 0 0 1 0 1 1 1 0 1 0 1]\n",
      "[1 0 0 1 1 0 0 0 0 0 1 0 0 0 0 0]\n",
      "[1 0 0 1 1 1 0 1 0 1 1 1 0 1 0 1]\n",
      "[1 0 0 0 1 1 0 0 0 0 1 0 0 0 0 0]\n",
      "[1 0 0 0 1 1 0 1 0 1 1 1 0 1 0 1]\n",
      "[1 0 0 0 1 1 0 0 0 0 1 0 0 0 0 0]\n",
      "[1 0 0 1 1 0 0 1 0 1 1 1 0 1 0 1]\n",
      "[1 0 0 1 1 0 0 0 0 0 1 0 0 0 0 0]\n",
      "[1 1 0 1 1 0 0 1 0 1 1 1 0 1 0 1]\n",
      "[1 1 0 0 1 0 0 0 0 0 1 0 0 0 0 0]\n",
      "[1 1 0 0 1 1 0 1 0 1 1 1 0 1 0 1]\n",
      "[1 1 0 0 1 1 0 0 0 0 1 0 0 0 0 0]\n",
      "[1 1 0 1 1 1 0 1 0 1 1 1 0 1 0 1]\n",
      "[1 1 0 1 1 1 0 0 0 0 1 0 0 0 0 0]\n"
     ]
    }
   ],
   "source": [
    "for counter_ in range(20):\n",
    "    \n",
    "    data_[1::2] ^= counter_ % flipsexp == 0\n",
    "    print(data_)\n",
    "\n",
    "# counter_ % flipsexp == 0"
   ]
  },
  {
   "cell_type": "code",
   "execution_count": 78,
   "id": "b23cfbcf",
   "metadata": {},
   "outputs": [],
   "source": [
    "m = []\n",
    "while len(m) < 8:\n",
    "    m.append('fuck')"
   ]
  },
  {
   "cell_type": "code",
   "execution_count": 3,
   "id": "5e2ee428",
   "metadata": {},
   "outputs": [],
   "source": [
    "m = np.array([1, 1, 0, 1, 1, 1, 0, 1, 0, 1, 1, 1, 0, 1, 0, 1], dtype='bool')"
   ]
  },
  {
   "cell_type": "code",
   "execution_count": 8,
   "id": "d4be0eb3",
   "metadata": {},
   "outputs": [],
   "source": [
    "m = np.packbits(m)"
   ]
  },
  {
   "cell_type": "code",
   "execution_count": 12,
   "id": "42cfcf93",
   "metadata": {},
   "outputs": [
    {
     "data": {
      "text/plain": [
       "221"
      ]
     },
     "execution_count": 12,
     "metadata": {},
     "output_type": "execute_result"
    }
   ],
   "source": [
    "int(m[0])"
   ]
  },
  {
   "cell_type": "code",
   "execution_count": null,
   "id": "cb3ed900",
   "metadata": {},
   "outputs": [],
   "source": []
  },
  {
   "cell_type": "code",
   "execution_count": null,
   "id": "995d89b4",
   "metadata": {},
   "outputs": [],
   "source": []
  },
  {
   "cell_type": "code",
   "execution_count": null,
   "id": "266c67ed",
   "metadata": {},
   "outputs": [],
   "source": []
  },
  {
   "cell_type": "code",
   "execution_count": 19,
   "id": "3383144a",
   "metadata": {},
   "outputs": [
    {
     "name": "stdout",
     "output_type": "stream",
     "text": [
      "0b0\n",
      "0b0\n",
      "0b0\n",
      "0b0\n",
      "0b0\n",
      "0b0\n",
      "0b0\n",
      "0b0\n"
     ]
    }
   ],
   "source": [
    "num = 0b11010010\n",
    "composit = 0\n",
    "\n",
    "for i in range(8):\n",
    "#     print(1 & num  >> i)\n",
    "    print(bin((1 & num  >> i) >> 2*i))"
   ]
  },
  {
   "cell_type": "code",
   "execution_count": 8,
   "id": "ffb122b9",
   "metadata": {},
   "outputs": [
    {
     "data": {
      "text/plain": [
       "'0b1001000001000000001000'"
      ]
     },
     "execution_count": 8,
     "metadata": {},
     "output_type": "execute_result"
    }
   ],
   "source": [
    "bin(composit)"
   ]
  },
  {
   "cell_type": "code",
   "execution_count": null,
   "id": "2f409555",
   "metadata": {},
   "outputs": [],
   "source": []
  }
 ],
 "metadata": {
  "kernelspec": {
   "display_name": "Python 3",
   "language": "python",
   "name": "python3"
  },
  "language_info": {
   "codemirror_mode": {
    "name": "ipython",
    "version": 3
   },
   "file_extension": ".py",
   "mimetype": "text/x-python",
   "name": "python",
   "nbconvert_exporter": "python",
   "pygments_lexer": "ipython3",
   "version": "3.9.2"
  }
 },
 "nbformat": 4,
 "nbformat_minor": 5
}
